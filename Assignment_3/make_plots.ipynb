{
 "cells": [
  {
   "cell_type": "code",
   "execution_count": 1,
   "metadata": {},
   "outputs": [],
   "source": [
    "import numpy as np\n",
    "import matplotlib as mpl\n",
    "import matplotlib.pyplot as plt"
   ]
  },
  {
   "cell_type": "code",
   "execution_count": 22,
   "metadata": {},
   "outputs": [],
   "source": [
    "mpl.rc('axes', linewidth=2, labelsize=18, labelpad=10)\n",
    "mpl.rc('xtick', direction='in', top=True, labelsize=13)\n",
    "mpl.rc('ytick', direction='in', right=True, labelsize=13)\n",
    "mpl.rc('xtick.major', size=4, width=2)\n",
    "mpl.rc('ytick.major', size=4, width=2)\n",
    "mpl.rc('lines', linewidth=2)\n",
    "mpl.rc('legend', fontsize=14)\n",
    "mpl.rc('font', family='Serif')"
   ]
  },
  {
   "cell_type": "code",
   "execution_count": 6,
   "metadata": {},
   "outputs": [],
   "source": [
    "t, a, e, ds, am = np.loadtxt('task3/500_0.5/task3_data.txt', delimiter=',').transpose()"
   ]
  },
  {
   "cell_type": "code",
   "execution_count": 26,
   "metadata": {},
   "outputs": [],
   "source": [
    "fig = plt.figure(figsize=(15,10))\n",
    "ax1 = fig.add_subplot(221)\n",
    "ax2 = fig.add_subplot(223)\n",
    "ax3 = fig.add_subplot(222)\n",
    "ax4 = fig.add_subplot(224)\n",
    "\n",
    "ax1.plot(t, a, c='C0')\n",
    "ax2.plot(t, e, c='C1')\n",
    "ax3.plot(t, ds, c='C2')\n",
    "ax4.plot(t, am, c='C3')\n",
    "\n",
    "for ax in [ax1, ax2, ax3, ax4]:\n",
    "    ax.set_xlabel('Time [yr]')\n",
    "    \n",
    "ax1.set_ylabel('a [au]')\n",
    "ax2.set_ylabel('e')\n",
    "ax3.set_ylabel('disk size [au]')\n",
    "ax4.set_ylabel('accreted mass [MJupiter]')\n",
    "\n",
    "fig.subplots_adjust(wspace=0.3)\n",
    "fig.savefig('q3_sun_planet_disk.jpg', dpi=300, bbox_inches='tight')\n",
    "None"
   ]
  },
  {
   "cell_type": "code",
   "execution_count": null,
   "metadata": {},
   "outputs": [],
   "source": []
  },
  {
   "cell_type": "code",
   "execution_count": 42,
   "metadata": {},
   "outputs": [],
   "source": [
    "t, a, e, ds, am = np.loadtxt('q4_sim_output.csv', delimiter=',').transpose()"
   ]
  },
  {
   "cell_type": "code",
   "execution_count": 43,
   "metadata": {},
   "outputs": [],
   "source": [
    "fig = plt.figure(figsize=(15,10))\n",
    "ax1 = fig.add_subplot(221)\n",
    "ax2 = fig.add_subplot(223)\n",
    "ax3 = fig.add_subplot(222)\n",
    "ax4 = fig.add_subplot(224)\n",
    "\n",
    "ax1.plot(t, a, c='C0')\n",
    "ax2.plot(t, e, c='C1')\n",
    "ax3.plot(t, ds, c='C2')\n",
    "ax4.plot(t, am, c='C3')\n",
    "\n",
    "for ax in [ax1, ax2, ax3, ax4]:\n",
    "    ax.set_xlabel('Time [yr]')\n",
    "    ax.axvline(100, c='grey', ls='--', lw=1.5, label='closest approach\\nof the passing star')\n",
    "    \n",
    "ax1.set_ylabel('a [au]')\n",
    "ax2.set_ylabel('e')\n",
    "ax3.set_ylabel('disk size [au]')\n",
    "ax4.set_ylabel('accreted mass [MJupiter]')\n",
    "ax1.legend()\n",
    "\n",
    "fig.subplots_adjust(wspace=0.3)\n",
    "fig.savefig('q4_sun_planet_disk_pstar.jpg', dpi=300, bbox_inches='tight')\n",
    "None"
   ]
  },
  {
   "cell_type": "code",
   "execution_count": null,
   "metadata": {},
   "outputs": [],
   "source": []
  }
 ],
 "metadata": {
  "kernelspec": {
   "display_name": "Python 2",
   "language": "python",
   "name": "python2"
  },
  "language_info": {
   "codemirror_mode": {
    "name": "ipython",
    "version": 2
   },
   "file_extension": ".py",
   "mimetype": "text/x-python",
   "name": "python",
   "nbconvert_exporter": "python",
   "pygments_lexer": "ipython2",
   "version": "2.7.16"
  }
 },
 "nbformat": 4,
 "nbformat_minor": 2
}
